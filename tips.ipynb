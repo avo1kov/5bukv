{
 "cells": [
  {
   "cell_type": "code",
   "execution_count": 65,
   "metadata": {},
   "outputs": [],
   "source": [
    "with open('sorted_nouns.txt', 'r', encoding='utf-8') as file:\n",
    "    nouns = [line.strip() for line in file]"
   ]
  },
  {
   "cell_type": "code",
   "execution_count": 78,
   "metadata": {},
   "outputs": [],
   "source": [
    "no = 'кронептси'\n",
    "exact =     ['', 'л', '', 'в', 'а']\n",
    "not_there = ['л', '', '', '', '']"
   ]
  },
  {
   "cell_type": "code",
   "execution_count": 79,
   "metadata": {},
   "outputs": [
    {
     "name": "stdout",
     "output_type": "stream",
     "text": [
      "{'л', 'в', 'а'}\n",
      "1\n"
     ]
    }
   ],
   "source": [
    "must_be = set()\n",
    "\n",
    "for i in range(5):\n",
    "    must_be.update(set(exact[i]))\n",
    "    must_be.update(set(not_there[i]))\n",
    "\n",
    "print(must_be)\n",
    "\n",
    "no = ''.join([char for char in no if char not in ''.join(exact) and char not in ''.join(not_there)])\n",
    "\n",
    "possible = []\n",
    "for noun in nouns:\n",
    "\n",
    "    if not set(no).isdisjoint(noun):\n",
    "        continue\n",
    "\n",
    "    continue_other = False\n",
    "    for i in range(5):\n",
    "        if exact[i] != '' and noun[i] != exact[i]:\n",
    "            continue_other = True\n",
    "    \n",
    "    if continue_other:\n",
    "        continue\n",
    "\n",
    "    continue_other = False\n",
    "    for i in range(5):\n",
    "        for l in not_there[i]:\n",
    "            if l != '' and noun[i] == l:\n",
    "                continue_other = True\n",
    "\n",
    "    if continue_other:\n",
    "        continue\n",
    "    \n",
    "    if not all(char in noun for char in must_be):\n",
    "        continue\n",
    "\n",
    "    possible.append(noun)\n",
    "\n",
    "print(len(possible))"
   ]
  },
  {
   "cell_type": "code",
   "execution_count": 80,
   "metadata": {},
   "outputs": [
    {
     "data": {
      "text/plain": [
       "['глава']"
      ]
     },
     "execution_count": 80,
     "metadata": {},
     "output_type": "execute_result"
    }
   ],
   "source": [
    "possible"
   ]
  },
  {
   "cell_type": "code",
   "execution_count": null,
   "metadata": {},
   "outputs": [],
   "source": []
  }
 ],
 "metadata": {
  "kernelspec": {
   "display_name": "Python 3 (ipykernel)",
   "language": "python",
   "name": "python3"
  },
  "language_info": {
   "codemirror_mode": {
    "name": "ipython",
    "version": 3
   },
   "file_extension": ".py",
   "mimetype": "text/x-python",
   "name": "python",
   "nbconvert_exporter": "python",
   "pygments_lexer": "ipython3",
   "version": "3.12.3"
  }
 },
 "nbformat": 4,
 "nbformat_minor": 2
}
