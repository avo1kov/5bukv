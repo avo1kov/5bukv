{
 "cells": [
  {
   "cell_type": "code",
   "execution_count": 1,
   "id": "dd79068f",
   "metadata": {},
   "outputs": [],
   "source": [
    "import pandas as pd"
   ]
  },
  {
   "cell_type": "code",
   "execution_count": 3,
   "id": "686e2061",
   "metadata": {},
   "outputs": [],
   "source": [
    "df = pd.read_csv('nouns.csv', delimiter='\t')"
   ]
  },
  {
   "cell_type": "code",
   "execution_count": 5,
   "id": "5e9977d8",
   "metadata": {},
   "outputs": [],
   "source": [
    "# Filter for 5-letter nouns\n",
    "five_letter_nouns = df[df['bare'].str.len() == 5]"
   ]
  },
  {
   "cell_type": "code",
   "execution_count": 7,
   "id": "efde4c74",
   "metadata": {},
   "outputs": [],
   "source": [
    "# Save the filtered words to a new file\n",
    "five_letter_nouns['bare'].to_csv('russian_nouns_5_letters.txt', index=False, header=False, encoding='utf-8')"
   ]
  }
 ],
 "metadata": {
  "kernelspec": {
   "display_name": "Python 3 (ipykernel)",
   "language": "python",
   "name": "python3"
  },
  "language_info": {
   "codemirror_mode": {
    "name": "ipython",
    "version": 3
   },
   "file_extension": ".py",
   "mimetype": "text/x-python",
   "name": "python",
   "nbconvert_exporter": "python",
   "pygments_lexer": "ipython3",
   "version": "3.11.5"
  }
 },
 "nbformat": 4,
 "nbformat_minor": 5
}
