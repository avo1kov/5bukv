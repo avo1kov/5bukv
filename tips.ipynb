{
 "cells": [
  {
   "cell_type": "code",
   "execution_count": 8,
   "metadata": {},
   "outputs": [],
   "source": [
    "with open('russian_nouns_5_letters.txt', 'r', encoding='utf-8') as file:\n",
    "    nouns = [line.strip() for line in file]"
   ]
  },
  {
   "cell_type": "code",
   "execution_count": 138,
   "metadata": {},
   "outputs": [],
   "source": [
    "no = 'внапч'\n",
    "exact =     ['', '', 'е', '', '']\n",
    "not_there = ['', 'ол', 'л', '', 'о']"
   ]
  },
  {
   "cell_type": "code",
   "execution_count": 139,
   "metadata": {},
   "outputs": [
    {
     "name": "stdout",
     "output_type": "stream",
     "text": [
      "{'о', 'л', 'е'}\n",
      "3\n"
     ]
    }
   ],
   "source": [
    "must_be = set()\n",
    "\n",
    "for i in range(5):\n",
    "    must_be.update(set(exact[i]))\n",
    "    must_be.update(set(not_there[i]))\n",
    "\n",
    "print(must_be)\n",
    "\n",
    "possible = []\n",
    "for noun in nouns:\n",
    "    if not set(no).isdisjoint(noun):\n",
    "        continue\n",
    "\n",
    "    continue_other = False\n",
    "    for i in range(5):\n",
    "        if exact[i] != '' and noun[i] != exact[i]:\n",
    "            continue_other = True\n",
    "    \n",
    "    if continue_other:\n",
    "        continue\n",
    "\n",
    "    continue_other = False\n",
    "    for i in range(5):\n",
    "        for l in not_there[i]:\n",
    "            if l != '' and noun[i] == l:\n",
    "                continue_other = True\n",
    "\n",
    "    if continue_other:\n",
    "        continue\n",
    "    \n",
    "    if not all(char in noun for char in must_be):\n",
    "        continue\n",
    "\n",
    "    possible.append(noun)\n",
    "\n",
    "print(len(possible))"
   ]
  },
  {
   "cell_type": "code",
   "execution_count": 140,
   "metadata": {},
   "outputs": [
    {
     "data": {
      "text/plain": [
       "['отель', 'ореол', 'креол']"
      ]
     },
     "execution_count": 140,
     "metadata": {},
     "output_type": "execute_result"
    }
   ],
   "source": [
    "possible"
   ]
  },
  {
   "cell_type": "code",
   "execution_count": null,
   "metadata": {},
   "outputs": [],
   "source": []
  }
 ],
 "metadata": {
  "kernelspec": {
   "display_name": "Python 3 (ipykernel)",
   "language": "python",
   "name": "python3"
  },
  "language_info": {
   "codemirror_mode": {
    "name": "ipython",
    "version": 3
   },
   "file_extension": ".py",
   "mimetype": "text/x-python",
   "name": "python",
   "nbconvert_exporter": "python",
   "pygments_lexer": "ipython3",
   "version": "3.11.5"
  }
 },
 "nbformat": 4,
 "nbformat_minor": 2
}
